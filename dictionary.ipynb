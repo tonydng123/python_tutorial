{
 "cells": [
  {
   "cell_type": "markdown",
   "id": "45585b14-bbae-48ba-b7ea-ea115eadbd85",
   "metadata": {},
   "source": [
    "## Merging dictionary"
   ]
  },
  {
   "cell_type": "code",
   "execution_count": 2,
   "id": "cd5e3ff5-e7e8-463f-9488-853fd4b1cbc8",
   "metadata": {},
   "outputs": [
    {
     "name": "stdout",
     "output_type": "stream",
     "text": [
      "{'math': 80, 'physics': 100, 'history': 74, 'writing': 95}\n"
     ]
    }
   ],
   "source": [
    "test1 = {\"math\":80, \"physics\": 100}\n",
    "test2 = {\"history\": 74, \"writing\": 95}\n",
    "test_scores = test1 | test2\n",
    "print(test_scores)"
   ]
  },
  {
   "cell_type": "code",
   "execution_count": 5,
   "id": "cfe1fe81-577b-412b-9290-368a3dba9a36",
   "metadata": {},
   "outputs": [
    {
     "name": "stdout",
     "output_type": "stream",
     "text": [
      "1. Neil Armstrong first performed a moon walk in 1969\n",
      "2. Buzz Aldrin first performed a moon walk in 1969\n",
      "3. Alan Shepard first performed a moon walk in 1971\n",
      "4. Eugene Cernan first performed a moon walk in 1972\n",
      "5. Michael Jackson first performed a moon walk in 1983\n"
     ]
    }
   ],
   "source": [
    "moonwalks = {\n",
    "    \"Neil Armstrong\": 1969,\n",
    "    \"Buzz Aldrin\": 1969,\n",
    "    \"Alan Shepard\": 1971,\n",
    "    \"Eugene Cernan\": 1972,\n",
    "    \"Michael Jackson\": 1983\n",
    "}\n",
    "for i, (name, year) in enumerate(moonwalks.items()):\n",
    "    print(f\"{i + 1}. {name} first performed a moon walk in {year}\")"
   ]
  },
  {
   "cell_type": "markdown",
   "id": "9d91b8f8-219d-4cf7-9616-b5d83d3c6433",
   "metadata": {},
   "source": [
    "## Application unique words"
   ]
  },
  {
   "cell_type": "code",
   "execution_count": 10,
   "id": "5860b596-7e80-418f-a3ba-9ca25a14ecad",
   "metadata": {},
   "outputs": [
    {
     "name": "stdout",
     "output_type": "stream",
     "text": [
      "['Let', 'me', 'not', 'to', 'the', 'marriage', 'of', 'true', 'minds', 'Admit', 'impediments', 'Love', 'is', 'not', 'love', 'Which', 'alters', 'when', 'it', 'alteration', 'finds', 'Or', 'bends', 'with', 'the', 'remover', 'to', 'remove', 'O', 'no', 'it', 'is', 'an', 'ever', 'fixed', 'mark', 'That', 'looks', 'on', 'tempests', 'and', 'is', 'never', 'shaken', 'It', 'is', 'the', 'star', 'to', 'every', 'wand', 'ring', 'bark', 'Whose', 'worth', 's', 'unknown', 'although', 'his', 'height', 'be', 'taken', 'Love', 's', 'not', 'time', 's', 'fool', 'though', 'rosy', 'lips', 'and', 'cheeks', 'Within', 'his', 'bending', 'sickle', 's', 'compass', 'come', 'Love', 'alters', 'not', 'with', 'his', 'brief', 'hours', 'and', 'weeks', 'But', 'bears', 'it', 'out', 'even', 'to', 'the', 'edge', 'of', 'doom', 'If', 'this', 'be', 'error', 'and', 'upon', 'me', 'proved', 'I', 'never', 'writ', 'nor', 'no', 'man', 'ever', 'loved']\n",
      "----------------------------------------------------------------------------------------------------\n",
      "{'Let': 1, 'me': 2, 'not': 4, 'to': 4, 'the': 4, 'marriage': 1, 'of': 2, 'true': 1, 'minds': 1, 'Admit': 1, 'impediments': 1, 'Love': 3, 'is': 4, 'love': 1, 'Which': 1, 'alters': 2, 'when': 1, 'it': 3, 'alteration': 1, 'finds': 1, 'Or': 1, 'bends': 1, 'with': 2, 'remover': 1, 'remove': 1, 'O': 1, 'no': 2, 'an': 1, 'ever': 2, 'fixed': 1, 'mark': 1, 'That': 1, 'looks': 1, 'on': 1, 'tempests': 1, 'and': 4, 'never': 2, 'shaken': 1, 'It': 1, 'star': 1, 'every': 1, 'wand': 1, 'ring': 1, 'bark': 1, 'Whose': 1, 'worth': 1, 's': 4, 'unknown': 1, 'although': 1, 'his': 3, 'height': 1, 'be': 2, 'taken': 1, 'time': 1, 'fool': 1, 'though': 1, 'rosy': 1, 'lips': 1, 'cheeks': 1, 'Within': 1, 'bending': 1, 'sickle': 1, 'compass': 1, 'come': 1, 'brief': 1, 'hours': 1, 'weeks': 1, 'But': 1, 'bears': 1, 'out': 1, 'even': 1, 'edge': 1, 'doom': 1, 'If': 1, 'this': 1, 'error': 1, 'upon': 1, 'proved': 1, 'I': 1, 'writ': 1, 'nor': 1, 'man': 1, 'loved': 1}\n"
     ]
    }
   ],
   "source": [
    "import re\n",
    "sonnet = \"\"\"Let me not to the marriage of true minds\n",
    "Admit impediments. Love is not love\n",
    "Which alters when it alteration finds,\n",
    "Or bends with the remover to remove.\n",
    "O no, it is an ever-fixed mark\n",
    "That looks on tempests and is never shaken\n",
    "It is the star to every wand'ring bark,\n",
    "Whose worth's unknown, although his height be taken.\n",
    "Love's not time's fool, though rosy lips and cheeks\n",
    "Within his bending sickle's compass come:\n",
    "Love alters not with his brief hours and weeks,\n",
    "But bears it out even to the edge of doom.\n",
    "  If this be error and upon me proved,\n",
    "  I never writ, nor no man ever loved.\"\"\"\n",
    "\n",
    "# keys equal to the unique words and values equal to the number of occurrences in the text\n",
    "uniques = {}\n",
    "words = re.findall(r\"\\w+\", sonnet)\n",
    "print(words)\n",
    "\n",
    "# Iterate through `words` and build up a dictionary of unique words.\n",
    "for word in words:\n",
    "    if word in uniques:\n",
    "        uniques[word] += 1\n",
    "    else:\n",
    "        uniques[word] = 1\n",
    "print(\"-\"*100)      \n",
    "print(uniques)"
   ]
  },
  {
   "cell_type": "code",
   "execution_count": null,
   "id": "0a1bda78-472b-4dfe-9ae5-41fcc300a576",
   "metadata": {},
   "outputs": [],
   "source": []
  }
 ],
 "metadata": {
  "kernelspec": {
   "display_name": "Python 3 (ipykernel)",
   "language": "python",
   "name": "python3"
  },
  "language_info": {
   "codemirror_mode": {
    "name": "ipython",
    "version": 3
   },
   "file_extension": ".py",
   "mimetype": "text/x-python",
   "name": "python",
   "nbconvert_exporter": "python",
   "pygments_lexer": "ipython3",
   "version": "3.11.5"
  }
 },
 "nbformat": 4,
 "nbformat_minor": 5
}
