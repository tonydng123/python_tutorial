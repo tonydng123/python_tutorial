{
 "cells": [
  {
   "cell_type": "code",
   "execution_count": 2,
   "id": "c6a76f1b-212c-4a92-ac0d-7a7002017bfe",
   "metadata": {},
   "outputs": [
    {
     "data": {
      "text/plain": [
       "1693939241.848476"
      ]
     },
     "execution_count": 2,
     "metadata": {},
     "output_type": "execute_result"
    }
   ],
   "source": [
    "import time\n",
    "time.time()"
   ]
  },
  {
   "cell_type": "code",
   "execution_count": 3,
   "id": "a3eaf27e-add7-4362-921c-44bb04809114",
   "metadata": {},
   "outputs": [
    {
     "data": {
      "text/plain": [
       "'Tue Sep  5 11:40:56 2023'"
      ]
     },
     "execution_count": 3,
     "metadata": {},
     "output_type": "execute_result"
    }
   ],
   "source": [
    "time.ctime()"
   ]
  },
  {
   "cell_type": "code",
   "execution_count": 3,
   "id": "056ed28a-abe9-447d-a6ec-2179eb1550f0",
   "metadata": {},
   "outputs": [
    {
     "name": "stdout",
     "output_type": "stream",
     "text": [
      "year: 2023\n",
      "Month: 9\n",
      "day: 5\n",
      "hour: 12\n",
      "now: 2023-09-05 19:25:51.282430+00:00\n",
      "moon landing day: 1969-07-20 20:17:40+00:00\n",
      "moon day of landing: 6\n",
      "moon day of landing: Sunday\n",
      "Today is: Tuesday\n"
     ]
    }
   ],
   "source": [
    "import datetime\n",
    "import calendar\n",
    "\n",
    "now = datetime.datetime.now()\n",
    "print(f\"year: {now.year}\")\n",
    "print(f\"Month: {now.month}\")\n",
    "print(f\"day: {now.day}\")\n",
    "print(f\"hour: {now.hour}\")\n",
    "\n",
    "from datetime import timezone\n",
    "now = datetime.datetime.now(timezone.utc)\n",
    "print(f\"now: {now}\")\n",
    "moon_landing = datetime.datetime(1969, 7, 20, 20, 17, 40, tzinfo=timezone.utc)\n",
    "print(f\"moon landing day: {moon_landing}\")\n",
    "print(f\"moon day of landing: {moon_landing.weekday()}\")\n",
    "DAYNAMES = ['Monday', 'Tuesday', 'Wednesday', 'Thursday', 'Friday', 'Saturday', 'Sunday']\n",
    "print(f\"moon day of landing: {DAYNAMES[moon_landing.weekday()]}\")\n",
    "today = calendar.day_name[datetime.datetime.now().weekday()]\n",
    "print(f\"Today is: {today}\")"
   ]
  },
  {
   "cell_type": "code",
   "execution_count": null,
   "id": "4c9c2dd4-c027-4876-93a7-b2597f4fb760",
   "metadata": {},
   "outputs": [],
   "source": []
  }
 ],
 "metadata": {
  "kernelspec": {
   "display_name": "Python 3 (ipykernel)",
   "language": "python",
   "name": "python3"
  },
  "language_info": {
   "codemirror_mode": {
    "name": "ipython",
    "version": 3
   },
   "file_extension": ".py",
   "mimetype": "text/x-python",
   "name": "python",
   "nbconvert_exporter": "python",
   "pygments_lexer": "ipython3",
   "version": "3.11.5"
  }
 },
 "nbformat": 4,
 "nbformat_minor": 5
}
