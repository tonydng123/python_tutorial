{
 "cells": [
  {
   "cell_type": "code",
   "execution_count": 2,
   "id": "fee19a46-7b3c-4e43-8389-0e931ade5369",
   "metadata": {},
   "outputs": [
    {
     "name": "stdout",
     "output_type": "stream",
     "text": [
      "[0, 1, 4, 9, 16, 25, 36, 49, 64, 81, 100]\n"
     ]
    }
   ],
   "source": [
    "def squares_list(n):\n",
    "    squares = []\n",
    "    for i in range(n):\n",
    "        squares.append(i**2)\n",
    "    return squares\n",
    "\n",
    "res = squares_list(11)\n",
    "print(res)"
   ]
  },
  {
   "cell_type": "code",
   "execution_count": 4,
   "id": "97a9175e-9392-4caa-aa73-6eb45b1b2fd6",
   "metadata": {},
   "outputs": [
    {
     "name": "stdout",
     "output_type": "stream",
     "text": [
      "16\n"
     ]
    }
   ],
   "source": [
    "def bigger_than_ten(numbers):\n",
    "    for n in numbers:\n",
    "        if n > 10:\n",
    "            return n\n",
    "\n",
    "res = bigger_than_ten(squares_list(10))\n",
    "print(res)"
   ]
  },
  {
   "cell_type": "code",
   "execution_count": 5,
   "id": "99273950-5c78-402a-bcb1-9dda293c400c",
   "metadata": {},
   "outputs": [
    {
     "name": "stdout",
     "output_type": "stream",
     "text": [
      "4\n"
     ]
    }
   ],
   "source": [
    "from datetime import datetime\n",
    "now = datetime.now()\n",
    "print(now.weekday())"
   ]
  },
  {
   "cell_type": "code",
   "execution_count": 9,
   "id": "af6907da-0886-401d-8bf1-31d0dd647bc0",
   "metadata": {},
   "outputs": [
    {
     "name": "stdout",
     "output_type": "stream",
     "text": [
      "<calendar._localized_day object at 0x10b031a10>\n",
      "['Monday', 'Tuesday', 'Wednesday', 'Thursday', 'Friday', 'Saturday', 'Sunday']\n",
      "today is: Friday\n"
     ]
    }
   ],
   "source": [
    "import calendar\n",
    "print(calendar.day_name)\n",
    "print(list(calendar.day_name))\n",
    "print(f\"today is: {calendar.day_name[datetime.now().weekday()]}\")"
   ]
  },
  {
   "cell_type": "code",
   "execution_count": 13,
   "id": "7b89bed4-f40f-427e-a6e7-c85c40435811",
   "metadata": {},
   "outputs": [
    {
     "name": "stdout",
     "output_type": "stream",
     "text": [
      "Friday\n",
      "Help on function dayname in module __main__:\n",
      "\n",
      "dayname(time)\n",
      "    Return the name of the day of the week for the given time\n",
      "\n",
      "None\n"
     ]
    }
   ],
   "source": [
    "def dayname(time):\n",
    "    \"\"\"Return the name of the day of the week for the given time\n",
    "    \"\"\"\n",
    "    return calendar.day_name[time.weekday()]\n",
    "\n",
    "# testing \n",
    "print(dayname(datetime.now()))\n",
    "print(help(dayname))"
   ]
  },
  {
   "cell_type": "markdown",
   "id": "2ed43a68-66e7-4827-9986-ff7f8f193883",
   "metadata": {},
   "source": [
    "## First class function"
   ]
  },
  {
   "cell_type": "code",
   "execution_count": 18,
   "id": "99a72bd4-7daa-4ed6-b26a-eaaa40b12db3",
   "metadata": {},
   "outputs": [
    {
     "name": "stdout",
     "output_type": "stream",
     "text": [
      "49\n",
      "101\n",
      "3.0\n"
     ]
    }
   ],
   "source": [
    "def square(x):\n",
    "    return x * x\n",
    "\n",
    "pow2 = square\n",
    "print(pow2(7))\n",
    "\n",
    "def function_adder(x, f):\n",
    "    return f(x) + 1\n",
    "\n",
    "print(function_adder(10, square))\n",
    "\n",
    "import math\n",
    "# return math.log10(100) + 1\n",
    "print(function_adder(100, math.log10))"
   ]
  },
  {
   "cell_type": "markdown",
   "id": "8564c92e-da2d-4fbf-ad13-6a5306e108ba",
   "metadata": {},
   "source": [
    "## Variable and keyword argument"
   ]
  },
  {
   "cell_type": "code",
   "execution_count": 21,
   "id": "22f2823f-baf8-48e7-a2bf-88a2c8f7d541",
   "metadata": {},
   "outputs": [
    {
     "name": "stdout",
     "output_type": "stream",
     "text": [
      "('hello', 'world', 'good weekend')\n",
      "{'a': 'hello', 'b': 'world', 'c': 'good day!'}\n"
     ]
    }
   ],
   "source": [
    "def foo(*args):\n",
    "    print(args)\n",
    "    \n",
    "foo(\"hello\", \"world\", \"good weekend\")\n",
    "\n",
    "# double-star for keywords\n",
    "def foo1(**kwargs):\n",
    "    print(kwargs)\n",
    "        \n",
    "foo1(a=\"hello\", b=\"world\", c=\"good day!\")"
   ]
  },
  {
   "cell_type": "code",
   "execution_count": null,
   "id": "e301b4ed-39ed-40b1-a0ec-3a83ebf50e17",
   "metadata": {},
   "outputs": [],
   "source": []
  }
 ],
 "metadata": {
  "kernelspec": {
   "display_name": "Python 3 (ipykernel)",
   "language": "python",
   "name": "python3"
  },
  "language_info": {
   "codemirror_mode": {
    "name": "ipython",
    "version": 3
   },
   "file_extension": ".py",
   "mimetype": "text/x-python",
   "name": "python",
   "nbconvert_exporter": "python",
   "pygments_lexer": "ipython3",
   "version": "3.11.5"
  }
 },
 "nbformat": 4,
 "nbformat_minor": 5
}
