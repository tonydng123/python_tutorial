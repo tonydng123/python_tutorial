{
 "cells": [
  {
   "cell_type": "code",
   "execution_count": 2,
   "id": "1109eea2-d203-4b10-9fea-c42a149d8612",
   "metadata": {},
   "outputs": [
    {
     "name": "stdout",
     "output_type": "stream",
     "text": [
      "no match!\n"
     ]
    }
   ],
   "source": [
    "import re\n",
    "zip_code = r\"\\d{5}\"\n",
    "if re.search(zip_code, \"no match\"):\n",
    "    print(\"It's got a zip code!\")\n",
    "else:\n",
    "    print(\"no match!\")"
   ]
  },
  {
   "cell_type": "code",
   "execution_count": 3,
   "id": "47fbbf2e-a191-4ced-af6c-c1a05733aa9d",
   "metadata": {},
   "outputs": [
    {
     "data": {
      "text/plain": [
       "<re.Match object; span=(25, 30), match='98108'>"
      ]
     },
     "execution_count": 3,
     "metadata": {},
     "output_type": "execute_result"
    }
   ],
   "source": [
    "re.search(zip_code, \"Capital Hill in seattle, 98108\")"
   ]
  },
  {
   "cell_type": "code",
   "execution_count": 18,
   "id": "7bfcd990-30bb-41e2-99f0-cc79d8b49e60",
   "metadata": {},
   "outputs": [
    {
     "name": "stdout",
     "output_type": "stream",
     "text": [
      "Beverly Hills 90210 was a '90s TV show set in Los Angeles. 91125 is another ZIP code in the Los Angeles area.\n"
     ]
    },
    {
     "data": {
      "text/plain": [
       "['90210', '91125']"
      ]
     },
     "execution_count": 18,
     "metadata": {},
     "output_type": "execute_result"
    }
   ],
   "source": [
    "s = \"Beverly Hills 90210 was a '90s TV show set in Los Angeles.\"\n",
    "s += \" 91125 is another ZIP code in the Los Angeles area.\"\n",
    "print(s)\n",
    "re.findall(zip_code, s)"
   ]
  },
  {
   "cell_type": "code",
   "execution_count": 19,
   "id": "44fea2f0-01f0-4ac5-9431-bfd6bd067615",
   "metadata": {},
   "outputs": [
    {
     "data": {
      "text/plain": [
       "['TV', 'ZIP']"
      ]
     },
     "execution_count": 19,
     "metadata": {},
     "output_type": "execute_result"
    }
   ],
   "source": [
    "# find all multi-letter words that are in ALL CAPS:\n",
    "re.findall(r\"[A-Z]{2,}\", s)"
   ]
  },
  {
   "cell_type": "code",
   "execution_count": 20,
   "id": "d8d5719c-f0cc-4346-9121-62ae1245d10a",
   "metadata": {},
   "outputs": [
    {
     "data": {
      "text/plain": [
       "['ant', 'bat', 'cat', 'duck', 'dog']"
      ]
     },
     "execution_count": 20,
     "metadata": {},
     "output_type": "execute_result"
    }
   ],
   "source": [
    "# \"ant bat cat duck\".split(\" \")\n",
    "re.split(\"\\s+\", \"ant bat cat duck dog\")"
   ]
  },
  {
   "cell_type": "code",
   "execution_count": 22,
   "id": "2f7f282c-0d3d-4e9d-9167-cfb936d0a2eb",
   "metadata": {},
   "outputs": [
    {
     "data": {
      "text/plain": [
       "['98178-1212']"
      ]
     },
     "execution_count": 22,
     "metadata": {},
     "output_type": "execute_result"
    }
   ],
   "source": [
    "zip_code = r\"\\d{5}-\\d{4}\"\n",
    "re.findall(zip_code, \"South Seattle,98178-1212\")"
   ]
  },
  {
   "cell_type": "code",
   "execution_count": 23,
   "id": "e1fc0336-b60b-403e-a288-06a505289742",
   "metadata": {},
   "outputs": [
    {
     "data": {
      "text/plain": [
       "['Let me not to the marriage of true minds',\n",
       " 'Admit impediments. Love is not love',\n",
       " 'Which alters when it alteration finds,',\n",
       " 'Or bends with the remover to remove.',\n",
       " 'O no, it is an ever-fixed mark',\n",
       " 'That looks on tempests and is never shaken',\n",
       " \"It is the star to every wand'ring bark,\",\n",
       " \"Whose worth's unknown, although his height be taken.\",\n",
       " \"Love's not time's fool, though rosy lips and cheeks\",\n",
       " \"Within his bending sickle's compass come:\",\n",
       " 'Love alters not with his brief hours and weeks,',\n",
       " 'But bears it out even to the edge of doom.',\n",
       " '\\u2003\\u2003If this be error and upon me proved,',\n",
       " '\\u2003\\u2003I never writ, nor no man ever loved.']"
      ]
     },
     "execution_count": 23,
     "metadata": {},
     "output_type": "execute_result"
    }
   ],
   "source": [
    "sonnet = \"\"\"Let me not to the marriage of true minds\n",
    "Admit impediments. Love is not love\n",
    "Which alters when it alteration finds,\n",
    "Or bends with the remover to remove.\n",
    "O no, it is an ever-fixed mark\n",
    "That looks on tempests and is never shaken\n",
    "It is the star to every wand'ring bark,\n",
    "Whose worth's unknown, although his height be taken.\n",
    "Love's not time's fool, though rosy lips and cheeks\n",
    "Within his bending sickle's compass come:\n",
    "Love alters not with his brief hours and weeks,\n",
    "But bears it out even to the edge of doom.\n",
    "  If this be error and upon me proved,\n",
    "  I never writ, nor no man ever loved.\"\"\"\n",
    "\n",
    "sonnet.split(\"\\n\")"
   ]
  },
  {
   "cell_type": "code",
   "execution_count": null,
   "id": "fcc93ee6-07fe-4d1d-a5ca-b12b2b5d19a3",
   "metadata": {},
   "outputs": [],
   "source": []
  }
 ],
 "metadata": {
  "kernelspec": {
   "display_name": "Python 3 (ipykernel)",
   "language": "python",
   "name": "python3"
  },
  "language_info": {
   "codemirror_mode": {
    "name": "ipython",
    "version": 3
   },
   "file_extension": ".py",
   "mimetype": "text/x-python",
   "name": "python",
   "nbconvert_exporter": "python",
   "pygments_lexer": "ipython3",
   "version": "3.11.5"
  }
 },
 "nbformat": 4,
 "nbformat_minor": 5
}
